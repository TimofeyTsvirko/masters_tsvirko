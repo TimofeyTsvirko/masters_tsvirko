{
 "cells": [
  {
   "cell_type": "code",
   "execution_count": null,
   "metadata": {},
   "outputs": [],
   "source": [
    "import numpy as np\n",
    "from sentence_transformers import SentenceTransformer\n",
    "from sklearn.metrics.pairwise import cosine_similarity"
   ]
  },
  {
   "cell_type": "code",
   "execution_count": null,
   "metadata": {},
   "outputs": [],
   "source": [
    "sentences = [\n",
    "    \"Я люблю заниматься спортом и активными видами отдыха.\",\n",
    "    \"Спорт и физическая активность делают нас здоровее.\",\n",
    "    \"Я предпочитаю читать книги на выходных.\",\n",
    "    \"I enjoy playing sports and engaging in outdoor activities.\",\n",
    "    \"Exercise and physical activity make us healthier.\",\n",
    "    \"I like to read books on the weekends.\"\n",
    "]\n",
    "\n",
    "# https://www.sbert.net/docs/sentence_transformer/pretrained_models.html\n",
    "model = SentenceTransformer('sentence-transformers/paraphrase-multilingual-MiniLM-L12-v2')\n",
    "embeddings = model.encode(sentences)\n",
    "similarity_matrix = cosine_similarity(embeddings)"
   ]
  },
  {
   "cell_type": "code",
   "execution_count": null,
   "metadata": {},
   "outputs": [],
   "source": [
    "similarity_matrix"
   ]
  },
  {
   "cell_type": "code",
   "execution_count": null,
   "metadata": {},
   "outputs": [],
   "source": [
    "sent_index = 0\n",
    "\n",
    "best_match_index = np.argmax(similarity_matrix[sent_index][np.arange(len(sentences)) != sent_index])\n",
    "if best_match_index >= sent_index:\n",
    "    best_match_index += 1\n",
    "best_match_score = similarity_matrix[sent_index][best_match_index]\n",
    "\n",
    "print(f\"Лучшее соответствие для '{sentences[sent_index]}' - это '{sentences[best_match_index]}' с оценкой сходства {best_match_score:.4f}\")"
   ]
  }
 ],
 "metadata": {
  "kernelspec": {
   "display_name": ".venv",
   "language": "python",
   "name": "python3"
  },
  "language_info": {
   "codemirror_mode": {
    "name": "ipython",
    "version": 3
   },
   "file_extension": ".py",
   "mimetype": "text/x-python",
   "name": "python",
   "nbconvert_exporter": "python",
   "pygments_lexer": "ipython3",
   "version": "3.10.12"
  }
 },
 "nbformat": 4,
 "nbformat_minor": 2
}
